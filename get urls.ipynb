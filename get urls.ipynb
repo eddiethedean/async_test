{
 "cells": [
  {
   "cell_type": "code",
   "execution_count": 2,
   "id": "4f8ebd39",
   "metadata": {},
   "outputs": [],
   "source": [
    "path = 'data-00007-of-00010'\n",
    "\n",
    "with open(path, 'rb') as f:\n",
    "    file_content = f.read()"
   ]
  },
  {
   "cell_type": "code",
   "execution_count": 3,
   "id": "0bda697b",
   "metadata": {},
   "outputs": [
    {
     "data": {
      "text/plain": [
       "593029864"
      ]
     },
     "execution_count": 3,
     "metadata": {},
     "output_type": "execute_result"
    }
   ],
   "source": [
    "len(file_content)"
   ]
  },
  {
   "cell_type": "code",
   "execution_count": 13,
   "id": "12f70b5e",
   "metadata": {},
   "outputs": [],
   "source": [
    "out = []\n",
    "for line in file_content.splitlines():\n",
    "    if line[:3] == b'URL':\n",
    "        out.append(line.decode())"
   ]
  },
  {
   "cell_type": "code",
   "execution_count": 15,
   "id": "13fca0ee",
   "metadata": {},
   "outputs": [],
   "source": []
  },
  {
   "cell_type": "code",
   "execution_count": 20,
   "id": "9e32c70e",
   "metadata": {},
   "outputs": [],
   "source": [
    "import re\n",
    "\n",
    "r = re.compile('((https?):((//)|(\\\\\\\\))+([\\w\\d:#@%/;$()~_?\\+-=\\\\\\.&](#!)?)*)', re.DOTALL)\n",
    "                                          \n",
    "\n",
    "def text_search(text, regex, dedupe=True):\n",
    "    re_matches = re.findall(regex, str(text))\n",
    "    if re_matches:\n",
    "        #remove all but first match if tuples\n",
    "        re_matches = [y[0] if type(y) == tuple else y for y in re_matches]\n",
    "        if dedupe:\n",
    "            return list(set(re_matches))\n",
    "        return list(re_matches)\n",
    "    return []"
   ]
  },
  {
   "cell_type": "code",
   "execution_count": 21,
   "id": "ee2bb415",
   "metadata": {},
   "outputs": [],
   "source": [
    "out = []\n",
    "for line in file_content.splitlines():\n",
    "    text = line.decode()\n",
    "    matches = text_search(text, r)\n",
    "    out.extend(matches)"
   ]
  },
  {
   "cell_type": "code",
   "execution_count": 22,
   "id": "d0f92c78",
   "metadata": {},
   "outputs": [
    {
     "data": {
      "text/plain": [
       "5122976"
      ]
     },
     "execution_count": 22,
     "metadata": {},
     "output_type": "execute_result"
    }
   ],
   "source": [
    "len(out)"
   ]
  },
  {
   "cell_type": "code",
   "execution_count": 25,
   "id": "2d17a6fb",
   "metadata": {},
   "outputs": [],
   "source": [
    "import pandas as pd"
   ]
  },
  {
   "cell_type": "code",
   "execution_count": 26,
   "id": "46cb67a6",
   "metadata": {},
   "outputs": [
    {
     "data": {
      "text/html": [
       "<div>\n",
       "<style scoped>\n",
       "    .dataframe tbody tr th:only-of-type {\n",
       "        vertical-align: middle;\n",
       "    }\n",
       "\n",
       "    .dataframe tbody tr th {\n",
       "        vertical-align: top;\n",
       "    }\n",
       "\n",
       "    .dataframe thead th {\n",
       "        text-align: right;\n",
       "    }\n",
       "</style>\n",
       "<table border=\"1\" class=\"dataframe\">\n",
       "  <thead>\n",
       "    <tr style=\"text-align: right;\">\n",
       "      <th></th>\n",
       "      <th>url</th>\n",
       "    </tr>\n",
       "  </thead>\n",
       "  <tbody>\n",
       "    <tr>\n",
       "      <th>0</th>\n",
       "      <td>http://en.wikipedia.org/wiki/Bayer_filter</td>\n",
       "    </tr>\n",
       "    <tr>\n",
       "      <th>1</th>\n",
       "      <td>http://en.wikipedia.org/wiki/Starter_motor</td>\n",
       "    </tr>\n",
       "    <tr>\n",
       "      <th>2</th>\n",
       "      <td>http://en.wikipedia.org/wiki/Physical</td>\n",
       "    </tr>\n",
       "    <tr>\n",
       "      <th>3</th>\n",
       "      <td>http://en.wikipedia.org/wiki/Psychological</td>\n",
       "    </tr>\n",
       "    <tr>\n",
       "      <th>4</th>\n",
       "      <td>http://en.wikipedia.org/wiki/Withdrawal</td>\n",
       "    </tr>\n",
       "  </tbody>\n",
       "</table>\n",
       "</div>"
      ],
      "text/plain": [
       "                                          url\n",
       "0   http://en.wikipedia.org/wiki/Bayer_filter\n",
       "1  http://en.wikipedia.org/wiki/Starter_motor\n",
       "2       http://en.wikipedia.org/wiki/Physical\n",
       "3  http://en.wikipedia.org/wiki/Psychological\n",
       "4     http://en.wikipedia.org/wiki/Withdrawal"
      ]
     },
     "execution_count": 26,
     "metadata": {},
     "output_type": "execute_result"
    }
   ],
   "source": [
    "df = pd.DataFrame({'url': out})\n",
    "df.head()"
   ]
  },
  {
   "cell_type": "code",
   "execution_count": 27,
   "id": "5dceef8a",
   "metadata": {},
   "outputs": [
    {
     "data": {
      "text/html": [
       "<div>\n",
       "<style scoped>\n",
       "    .dataframe tbody tr th:only-of-type {\n",
       "        vertical-align: middle;\n",
       "    }\n",
       "\n",
       "    .dataframe tbody tr th {\n",
       "        vertical-align: top;\n",
       "    }\n",
       "\n",
       "    .dataframe thead th {\n",
       "        text-align: right;\n",
       "    }\n",
       "</style>\n",
       "<table border=\"1\" class=\"dataframe\">\n",
       "  <thead>\n",
       "    <tr style=\"text-align: right;\">\n",
       "      <th></th>\n",
       "      <th>url</th>\n",
       "    </tr>\n",
       "    <tr>\n",
       "      <th>id</th>\n",
       "      <th></th>\n",
       "    </tr>\n",
       "  </thead>\n",
       "  <tbody>\n",
       "    <tr>\n",
       "      <th>0</th>\n",
       "      <td>http://en.wikipedia.org/wiki/Bayer_filter</td>\n",
       "    </tr>\n",
       "    <tr>\n",
       "      <th>1</th>\n",
       "      <td>http://en.wikipedia.org/wiki/Starter_motor</td>\n",
       "    </tr>\n",
       "    <tr>\n",
       "      <th>2</th>\n",
       "      <td>http://en.wikipedia.org/wiki/Physical</td>\n",
       "    </tr>\n",
       "    <tr>\n",
       "      <th>3</th>\n",
       "      <td>http://en.wikipedia.org/wiki/Psychological</td>\n",
       "    </tr>\n",
       "    <tr>\n",
       "      <th>4</th>\n",
       "      <td>http://en.wikipedia.org/wiki/Withdrawal</td>\n",
       "    </tr>\n",
       "    <tr>\n",
       "      <th>...</th>\n",
       "      <td>...</td>\n",
       "    </tr>\n",
       "    <tr>\n",
       "      <th>5122971</th>\n",
       "      <td>http://en.wikipedia.org/wiki/Johnny_Depp</td>\n",
       "    </tr>\n",
       "    <tr>\n",
       "      <th>5122972</th>\n",
       "      <td>http://en.wikipedia.org/wiki/Peter_DeLuise</td>\n",
       "    </tr>\n",
       "    <tr>\n",
       "      <th>5122973</th>\n",
       "      <td>http://en.wikipedia.org/wiki/Holly_Robinson_Peete</td>\n",
       "    </tr>\n",
       "    <tr>\n",
       "      <th>5122974</th>\n",
       "      <td>https://zythophile.wordpress.com/tag/poems-abo...</td>\n",
       "    </tr>\n",
       "    <tr>\n",
       "      <th>5122975</th>\n",
       "      <td>http://en.wikipedia.org/wiki/Poet_Laureate_of_...</td>\n",
       "    </tr>\n",
       "  </tbody>\n",
       "</table>\n",
       "<p>5122976 rows × 1 columns</p>\n",
       "</div>"
      ],
      "text/plain": [
       "                                                       url\n",
       "id                                                        \n",
       "0                http://en.wikipedia.org/wiki/Bayer_filter\n",
       "1               http://en.wikipedia.org/wiki/Starter_motor\n",
       "2                    http://en.wikipedia.org/wiki/Physical\n",
       "3               http://en.wikipedia.org/wiki/Psychological\n",
       "4                  http://en.wikipedia.org/wiki/Withdrawal\n",
       "...                                                    ...\n",
       "5122971           http://en.wikipedia.org/wiki/Johnny_Depp\n",
       "5122972         http://en.wikipedia.org/wiki/Peter_DeLuise\n",
       "5122973  http://en.wikipedia.org/wiki/Holly_Robinson_Peete\n",
       "5122974  https://zythophile.wordpress.com/tag/poems-abo...\n",
       "5122975  http://en.wikipedia.org/wiki/Poet_Laureate_of_...\n",
       "\n",
       "[5122976 rows x 1 columns]"
      ]
     },
     "execution_count": 27,
     "metadata": {},
     "output_type": "execute_result"
    }
   ],
   "source": [
    "df.index.name = 'id'\n",
    "df"
   ]
  },
  {
   "cell_type": "code",
   "execution_count": 28,
   "id": "394030f4",
   "metadata": {},
   "outputs": [],
   "source": [
    "df.to_csv('data/urls.csv')"
   ]
  },
  {
   "cell_type": "code",
   "execution_count": null,
   "id": "9ac49541",
   "metadata": {},
   "outputs": [],
   "source": []
  }
 ],
 "metadata": {
  "kernelspec": {
   "display_name": "Python 3 (ipykernel)",
   "language": "python",
   "name": "python3"
  },
  "language_info": {
   "codemirror_mode": {
    "name": "ipython",
    "version": 3
   },
   "file_extension": ".py",
   "mimetype": "text/x-python",
   "name": "python",
   "nbconvert_exporter": "python",
   "pygments_lexer": "ipython3",
   "version": "3.10.11"
  }
 },
 "nbformat": 4,
 "nbformat_minor": 5
}
